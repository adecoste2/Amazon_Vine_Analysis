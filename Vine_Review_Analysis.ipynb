{
  "nbformat": 4,
  "nbformat_minor": 0,
  "metadata": {
    "colab": {
      "name": "Vine_Review_Analysis.ipynb",
      "provenance": [],
      "collapsed_sections": [],
      "authorship_tag": "ABX9TyMLLHECEXN8NRVMh6N0vODO",
      "include_colab_link": true
    },
    "kernelspec": {
      "name": "python3",
      "display_name": "Python 3"
    },
    "language_info": {
      "name": "python"
    }
  },
  "cells": [
    {
      "cell_type": "markdown",
      "metadata": {
        "id": "view-in-github",
        "colab_type": "text"
      },
      "source": [
        "<a href=\"https://colab.research.google.com/github/adecoste2/Amazon_Vine_Analysis/blob/main/Vine_Review_Analysis.ipynb\" target=\"_parent\"><img src=\"https://colab.research.google.com/assets/colab-badge.svg\" alt=\"Open In Colab\"/></a>"
      ]
    },
    {
      "cell_type": "code",
      "execution_count": null,
      "metadata": {
        "colab": {
          "base_uri": "https://localhost:8080/"
        },
        "id": "vM5kCdhnswQd",
        "outputId": "b89377b9-8cc8-4254-8976-124c9d394187"
      },
      "outputs": [
        {
          "output_type": "stream",
          "name": "stdout",
          "text": [
            "\r0% [Working]\r            \rGet:1 http://security.ubuntu.com/ubuntu bionic-security InRelease [88.7 kB]\n",
            "\r0% [Connecting to archive.ubuntu.com (185.125.190.36)] [1 InRelease 0 B/88.7 kB\r                                                                               \rGet:2 https://developer.download.nvidia.com/compute/cuda/repos/ubuntu1804/x86_64  InRelease [1,581 B]\n",
            "\r0% [Waiting for headers] [1 InRelease 60.5 kB/88.7 kB 68%] [Connected to cloud.\r0% [Waiting for headers] [1 InRelease 88.7 kB/88.7 kB 100%] [Connected to cloud\r                                                                               \rGet:3 https://cloud.r-project.org/bin/linux/ubuntu bionic-cran40/ InRelease [3,626 B]\n",
            "\r                                                                               \r0% [Waiting for headers] [Waiting for headers] [Waiting for headers]\r0% [2 InRelease gpgv 1,581 B] [Waiting for headers] [Waiting for headers] [Wait\r                                                                               \rGet:4 http://ppa.launchpad.net/c2d4u.team/c2d4u4.0+/ubuntu bionic InRelease [15.9 kB]\n",
            "\r0% [2 InRelease gpgv 1,581 B] [Waiting for headers] [4 InRelease 14.2 kB/15.9 k\r                                                                               \rHit:5 http://archive.ubuntu.com/ubuntu bionic InRelease\n",
            "Ign:6 https://developer.download.nvidia.com/compute/machine-learning/repos/ubuntu1804/x86_64  InRelease\n",
            "Hit:7 https://developer.download.nvidia.com/compute/machine-learning/repos/ubuntu1804/x86_64  Release\n",
            "Get:8 http://archive.ubuntu.com/ubuntu bionic-updates InRelease [88.7 kB]\n",
            "Hit:9 http://ppa.launchpad.net/cran/libgit2/ubuntu bionic InRelease\n",
            "Get:10 https://developer.download.nvidia.com/compute/cuda/repos/ubuntu1804/x86_64  Packages [787 kB]\n",
            "Get:11 http://archive.ubuntu.com/ubuntu bionic-backports InRelease [74.6 kB]\n",
            "Get:12 http://ppa.launchpad.net/deadsnakes/ppa/ubuntu bionic InRelease [15.9 kB]\n",
            "Get:13 http://ppa.launchpad.net/graphics-drivers/ppa/ubuntu bionic InRelease [21.3 kB]\n",
            "Get:14 http://security.ubuntu.com/ubuntu bionic-security/restricted amd64 Packages [954 kB]\n",
            "Get:15 http://security.ubuntu.com/ubuntu bionic-security/universe amd64 Packages [1,507 kB]\n",
            "Get:16 http://security.ubuntu.com/ubuntu bionic-security/multiverse amd64 Packages [22.8 kB]\n",
            "Get:17 http://security.ubuntu.com/ubuntu bionic-security/main amd64 Packages [2,792 kB]\n",
            "Get:19 http://ppa.launchpad.net/c2d4u.team/c2d4u4.0+/ubuntu bionic/main Sources [1,990 kB]\n",
            "Get:20 http://archive.ubuntu.com/ubuntu bionic-updates/restricted amd64 Packages [989 kB]\n",
            "Get:21 http://ppa.launchpad.net/c2d4u.team/c2d4u4.0+/ubuntu bionic/main amd64 Packages [1,021 kB]\n",
            "Get:22 http://archive.ubuntu.com/ubuntu bionic-updates/multiverse amd64 Packages [29.8 kB]\n",
            "Get:23 http://archive.ubuntu.com/ubuntu bionic-updates/main amd64 Packages [3,229 kB]\n",
            "Get:24 http://archive.ubuntu.com/ubuntu bionic-updates/universe amd64 Packages [2,282 kB]\n",
            "Get:25 http://ppa.launchpad.net/deadsnakes/ppa/ubuntu bionic/main amd64 Packages [45.3 kB]\n",
            "Get:26 http://ppa.launchpad.net/graphics-drivers/ppa/ubuntu bionic/main amd64 Packages [44.3 kB]\n",
            "Fetched 16.0 MB in 9s (1,770 kB/s)\n",
            "Reading package lists... Done\n"
          ]
        }
      ],
      "source": [
        "import os\n",
        "# Find the latest version of spark 3.0 from http://www.apache.org/dist/spark/ and enter as the spark version\n",
        "# For example:\n",
        "# spark_version = 'spark-3.0.3'\n",
        "spark_version = 'spark-3.2.1'\n",
        "os.environ['SPARK_VERSION']=spark_version\n",
        "\n",
        "# Install Spark and Java\n",
        "!apt-get update\n",
        "!apt-get install openjdk-11-jdk-headless -qq > /dev/null\n",
        "!wget -q http://www.apache.org/dist/spark/$SPARK_VERSION/$SPARK_VERSION-bin-hadoop2.7.tgz\n",
        "!tar xf $SPARK_VERSION-bin-hadoop2.7.tgz\n",
        "!pip install -q findspark\n",
        "\n",
        "# Set Environment Variables\n",
        "import os\n",
        "os.environ[\"JAVA_HOME\"] = \"/usr/lib/jvm/java-11-openjdk-amd64\"\n",
        "os.environ[\"SPARK_HOME\"] = f\"/content/{spark_version}-bin-hadoop2.7\"\n",
        "\n",
        "# Start a SparkSession\n",
        "import findspark\n",
        "findspark.init()"
      ]
    },
    {
      "cell_type": "code",
      "source": [
        "from pyspark.sql import SparkSession\n",
        "spark = SparkSession.builder.appName(\"Vine_Review_Analysis\").config(\"spark.driver.extraClassPath\",\"/content/postgresql-42.2.16.jar\").getOrCreate()"
      ],
      "metadata": {
        "id": "havbhstJx54-"
      },
      "execution_count": null,
      "outputs": []
    },
    {
      "cell_type": "code",
      "source": [
        "from pyspark import SparkFiles\n",
        "url = \"https://s3.amazonaws.com/amazon-reviews-pds/tsv/amazon_reviews_us_Gift_Card_v1_00.tsv.gz\"\n",
        "spark.sparkContext.addFile(url)\n",
        "df = spark.read.option(\"encoding\", \"UTF-8\").csv(SparkFiles.get(\"\"), sep=\"\\t\", header=True, inferSchema=True)\n",
        "df.show()"
      ],
      "metadata": {
        "colab": {
          "base_uri": "https://localhost:8080/"
        },
        "id": "7btZRlWGyyDM",
        "outputId": "de9d9c0d-b2e4-4235-c609-6a15bda90ffd"
      },
      "execution_count": null,
      "outputs": [
        {
          "output_type": "stream",
          "name": "stdout",
          "text": [
            "+-----------+-----------+--------------+----------+--------------+--------------------+----------------+-----------+-------------+-----------+----+-----------------+--------------------+--------------------+-----------+\n",
            "|marketplace|customer_id|     review_id|product_id|product_parent|       product_title|product_category|star_rating|helpful_votes|total_votes|vine|verified_purchase|     review_headline|         review_body|review_date|\n",
            "+-----------+-----------+--------------+----------+--------------+--------------------+----------------+-----------+-------------+-----------+----+-----------------+--------------------+--------------------+-----------+\n",
            "|         US|   24371595|R27ZP1F1CD0C3Y|B004LLIL5A|     346014806|Amazon eGift Card...|       Gift Card|          5|            0|          0|   N|                Y|          Five Stars|Great birthday gi...| 2015-08-31|\n",
            "|         US|   42489718| RJ7RSBCHUDNNE|B004LLIKVU|     473048287|Amazon.com eGift ...|       Gift Card|          5|            0|          0|   N|                Y|Gift card for the...|It's an Amazon gi...| 2015-08-31|\n",
            "|         US|     861463|R1HVYBSKLQJI5S|B00IX1I3G6|     926539283|Amazon.com Gift C...|       Gift Card|          5|            0|          0|   N|                Y|          Five Stars|                Good| 2015-08-31|\n",
            "|         US|   25283295|R2HAXF0IIYQBIR|B00IX1I3G6|     926539283|Amazon.com Gift C...|       Gift Card|          1|            0|          0|   N|                Y|            One Star|                Fair| 2015-08-31|\n",
            "|         US|     397970| RNYLPX611NB7Q|B005ESMGV4|     379368939|Amazon.com Gift C...|       Gift Card|          5|            0|          0|   N|                Y|          Five Stars|I can't believe h...| 2015-08-31|\n",
            "|         US|   18513645|R3ALA9XXMBEDZR|B004KNWWU4|     326384774|Amazon Gift Card ...|       Gift Card|          5|            0|          0|   N|                Y|Perfect for most ...|Perfect!  Nice & ...| 2015-08-31|\n",
            "|         US|   22484620|R3R8PHAVJFTPDF|B004LLIKVU|     473048287|Amazon.com eGift ...|       Gift Card|          5|            0|          0|   N|                Y|          Five Stars|            excelent| 2015-08-31|\n",
            "|         US|   14765851|R18WWEK8OIXE30|BT00CTP2EE|     775486538|Amazon.com Gift C...|       Gift Card|          5|            0|          0|   N|                Y|          Five Stars|Great and Safe Gi...| 2015-08-31|\n",
            "|         US|   18751931|R1EGUNQON2J277|B004LLIKVU|     473048287|Amazon.com eGift ...|       Gift Card|          1|            0|          0|   N|                Y|            One Star|       What?????????| 2015-08-31|\n",
            "|         US|   15100528|R21Z4M4L98CPU2|B004W8D102|     595099956|Amazon Gift Card ...|       Gift Card|          5|            0|          0|   N|                Y|          Five Stars|This was just too...| 2015-08-31|\n",
            "|         US|    3559726| R6JH7A117FHFA|B004LLIKVU|     473048287|Amazon.com eGift ...|       Gift Card|          5|            0|          0|   N|                Y|          Five Stars|                Bien| 2015-08-31|\n",
            "|         US|   23413911|R1XZHS8M1GCGI7|B004KNWWU4|     326384774|Amazon Gift Card ...|       Gift Card|          5|            1|          1|   N|                Y|         Always good|Easy to print fro...| 2015-08-31|\n",
            "|         US|    2026222|R1DAI0N03SKRJN|B004LLIKVU|     473048287|Amazon.com eGift ...|       Gift Card|          5|            1|          1|   N|                Y|          Five Stars|Amazing with 10 d...| 2015-08-31|\n",
            "|         US|   32956435|R2F6SKZOEYQRU3|B004LLIKVU|     473048287|Amazon.com eGift ...|       Gift Card|          5|            0|          0|   N|                N|          Five Stars|Remember Matthew ...| 2015-08-31|\n",
            "|         US|   20241560| RIBOP6OEAZA47|B00H5BNLUS|     637715957|Amazon eGift Card...|       Gift Card|          5|            1|          1|   N|                Y|          Five Stars|                good| 2015-08-31|\n",
            "|         US|   10670435|R15H8E7WD6XD29|B004KNWX6C|     763371347|Amazon Gift Card ...|       Gift Card|          5|            0|          0|   N|                Y|          Five Stars|Awesome way to se...| 2015-08-31|\n",
            "|         US|   48872127| RVN4P3RU4F8IE|BT00CTOYC0|     506740729|Amazon.com $15 Gi...|       Gift Card|          5|            0|          0|   N|                Y|Quick Solution fo...|I love that I hav...| 2015-08-31|\n",
            "|         US|     460630| RCS8F9JCAAXC7|B004LLIKVU|     473048287|Amazon.com eGift ...|       Gift Card|          4|            0|          0|   N|                Y|          Four Stars|Good gift. Easy t...| 2015-08-31|\n",
            "|         US|   41238378| R6811C4E7UYL2|B00H5BMH44|      81025991|Amazon eGift Card...|       Gift Card|          5|            0|          0|   N|                Y|  Satisfied customer|Satisfied as usua...| 2015-08-31|\n",
            "|         US|   14222739|R196T0NZ73TYIM|B005ESMMKE|     459536087|Amazon.com Gift C...|       Gift Card|          5|            1|          1|   N|                Y|          Five Stars|                nice| 2015-08-31|\n",
            "+-----------+-----------+--------------+----------+--------------+--------------------+----------------+-----------+-------------+-----------+----+-----------------+--------------------+--------------------+-----------+\n",
            "only showing top 20 rows\n",
            "\n"
          ]
        }
      ]
    },
    {
      "cell_type": "code",
      "source": [
        "# Create the vine_table. DataFrame\n",
        "vine_df = df.select([\"review_id\", \"star_rating\", \"helpful_votes\", \"total_votes\", \"vine\", \"verified_purchase\"])\n",
        "vine_df.show()"
      ],
      "metadata": {
        "colab": {
          "base_uri": "https://localhost:8080/"
        },
        "id": "n9ZYmil0zNKG",
        "outputId": "67570ae7-d690-4040-a824-bad54f65ada8"
      },
      "execution_count": null,
      "outputs": [
        {
          "output_type": "stream",
          "name": "stdout",
          "text": [
            "+--------------+-----------+-------------+-----------+----+-----------------+\n",
            "|     review_id|star_rating|helpful_votes|total_votes|vine|verified_purchase|\n",
            "+--------------+-----------+-------------+-----------+----+-----------------+\n",
            "|R27ZP1F1CD0C3Y|          5|            0|          0|   N|                Y|\n",
            "| RJ7RSBCHUDNNE|          5|            0|          0|   N|                Y|\n",
            "|R1HVYBSKLQJI5S|          5|            0|          0|   N|                Y|\n",
            "|R2HAXF0IIYQBIR|          1|            0|          0|   N|                Y|\n",
            "| RNYLPX611NB7Q|          5|            0|          0|   N|                Y|\n",
            "|R3ALA9XXMBEDZR|          5|            0|          0|   N|                Y|\n",
            "|R3R8PHAVJFTPDF|          5|            0|          0|   N|                Y|\n",
            "|R18WWEK8OIXE30|          5|            0|          0|   N|                Y|\n",
            "|R1EGUNQON2J277|          1|            0|          0|   N|                Y|\n",
            "|R21Z4M4L98CPU2|          5|            0|          0|   N|                Y|\n",
            "| R6JH7A117FHFA|          5|            0|          0|   N|                Y|\n",
            "|R1XZHS8M1GCGI7|          5|            1|          1|   N|                Y|\n",
            "|R1DAI0N03SKRJN|          5|            1|          1|   N|                Y|\n",
            "|R2F6SKZOEYQRU3|          5|            0|          0|   N|                N|\n",
            "| RIBOP6OEAZA47|          5|            1|          1|   N|                Y|\n",
            "|R15H8E7WD6XD29|          5|            0|          0|   N|                Y|\n",
            "| RVN4P3RU4F8IE|          5|            0|          0|   N|                Y|\n",
            "| RCS8F9JCAAXC7|          4|            0|          0|   N|                Y|\n",
            "| R6811C4E7UYL2|          5|            0|          0|   N|                Y|\n",
            "|R196T0NZ73TYIM|          5|            1|          1|   N|                Y|\n",
            "+--------------+-----------+-------------+-----------+----+-----------------+\n",
            "only showing top 20 rows\n",
            "\n"
          ]
        }
      ]
    },
    {
      "cell_type": "code",
      "source": [
        "# Step 1: Filter the data and create a new DataFrame or table to retrieve all the rows where the total_votes count is equal to or greater than 20\n",
        "# to pick reviews that are more likely to be helpful and to avoid having division by zero errors later on.\n",
        "t_v20Plus = vine_df.filter(\"total_votes >=20\")\n",
        "t_v20Plus.show()\n"
      ],
      "metadata": {
        "colab": {
          "base_uri": "https://localhost:8080/"
        },
        "id": "SfbsZsJ-zmmP",
        "outputId": "281b7c60-6a7f-40d0-a749-8a7d82820f41"
      },
      "execution_count": null,
      "outputs": [
        {
          "output_type": "stream",
          "name": "stdout",
          "text": [
            "+--------------+-----------+-------------+-----------+----+-----------------+\n",
            "|     review_id|star_rating|helpful_votes|total_votes|vine|verified_purchase|\n",
            "+--------------+-----------+-------------+-----------+----+-----------------+\n",
            "|R36PQ9D8L2AAOH|          5|           30|         32|   N|                Y|\n",
            "|R23GHBE86II0SK|          5|           18|         21|   N|                Y|\n",
            "|R18KVPY0TO33BM|          5|          241|        248|   N|                Y|\n",
            "|R2ZB78BDM8BRCF|          1|           99|        113|   N|                Y|\n",
            "|R2JMJOWGM7V7NX|          4|           20|         20|   N|                N|\n",
            "|R10ORTN0I3G5B9|          1|           19|         26|   N|                Y|\n",
            "|R1D1VPJBTP1WG8|          1|           38|         51|   N|                Y|\n",
            "|R3Q3ULUTULAQYH|          1|           22|         29|   N|                Y|\n",
            "|R1SHEELXA1IXQP|          5|           45|         57|   N|                Y|\n",
            "|R1IQJ99JOPJOE4|          5|           73|         94|   N|                N|\n",
            "|R32PHGNOUNJVY2|          1|          111|        150|   N|                Y|\n",
            "|R32HQ18L7FOP3N|          1|           18|         23|   N|                N|\n",
            "|R2IPGL0F4OCNO9|          1|           18|         24|   N|                N|\n",
            "| R4RNS35ZXYWSU|          2|           52|         59|   N|                Y|\n",
            "| R5S7HIQAWL5QS|          5|           48|         49|   N|                Y|\n",
            "|R12LGU9RL181NG|          1|         5987|       6323|   N|                Y|\n",
            "|R1ZMHE6AO0T6MO|          5|           67|         75|   N|                N|\n",
            "| R66RKRKYK3VMO|          5|           74|         89|   N|                Y|\n",
            "| R1SVG06BEMESM|          5|           92|        126|   N|                Y|\n",
            "|R1Q5MWSSP3RMYJ|          1|           25|         29|   N|                Y|\n",
            "+--------------+-----------+-------------+-----------+----+-----------------+\n",
            "only showing top 20 rows\n",
            "\n"
          ]
        }
      ]
    },
    {
      "cell_type": "code",
      "source": [
        "# Step 2: Filter the new DataFrame or table created in Step 1 and create a new DataFrame or table \n",
        "# to retrieve all the rows where the number of helpful_votes divided by total_votes is equal to or greater than 50%.\n",
        "h_v_pct = t_v20Plus.filter(\"(helpful_votes/total_votes) >= 0.5\")\n",
        "h_v_pct.show()"
      ],
      "metadata": {
        "colab": {
          "base_uri": "https://localhost:8080/"
        },
        "id": "fbrsavvl0uIp",
        "outputId": "f363544d-027a-4373-fe9c-49b80c9ca61f"
      },
      "execution_count": null,
      "outputs": [
        {
          "output_type": "stream",
          "name": "stdout",
          "text": [
            "+--------------+-----------+-------------+-----------+----+-----------------+\n",
            "|     review_id|star_rating|helpful_votes|total_votes|vine|verified_purchase|\n",
            "+--------------+-----------+-------------+-----------+----+-----------------+\n",
            "|R36PQ9D8L2AAOH|          5|           30|         32|   N|                Y|\n",
            "|R23GHBE86II0SK|          5|           18|         21|   N|                Y|\n",
            "|R18KVPY0TO33BM|          5|          241|        248|   N|                Y|\n",
            "|R2ZB78BDM8BRCF|          1|           99|        113|   N|                Y|\n",
            "|R2JMJOWGM7V7NX|          4|           20|         20|   N|                N|\n",
            "|R10ORTN0I3G5B9|          1|           19|         26|   N|                Y|\n",
            "|R1D1VPJBTP1WG8|          1|           38|         51|   N|                Y|\n",
            "|R3Q3ULUTULAQYH|          1|           22|         29|   N|                Y|\n",
            "|R1SHEELXA1IXQP|          5|           45|         57|   N|                Y|\n",
            "|R1IQJ99JOPJOE4|          5|           73|         94|   N|                N|\n",
            "|R32PHGNOUNJVY2|          1|          111|        150|   N|                Y|\n",
            "|R32HQ18L7FOP3N|          1|           18|         23|   N|                N|\n",
            "|R2IPGL0F4OCNO9|          1|           18|         24|   N|                N|\n",
            "| R4RNS35ZXYWSU|          2|           52|         59|   N|                Y|\n",
            "| R5S7HIQAWL5QS|          5|           48|         49|   N|                Y|\n",
            "|R12LGU9RL181NG|          1|         5987|       6323|   N|                Y|\n",
            "|R1ZMHE6AO0T6MO|          5|           67|         75|   N|                N|\n",
            "| R66RKRKYK3VMO|          5|           74|         89|   N|                Y|\n",
            "| R1SVG06BEMESM|          5|           92|        126|   N|                Y|\n",
            "|R1Q5MWSSP3RMYJ|          1|           25|         29|   N|                Y|\n",
            "+--------------+-----------+-------------+-----------+----+-----------------+\n",
            "only showing top 20 rows\n",
            "\n"
          ]
        }
      ]
    },
    {
      "cell_type": "code",
      "source": [
        "# Step 3: Filter the DataFrame or table created in Step 2, and create a new DataFrame or table\n",
        "# that retrieves all the rows where a review was written as part of the Vine program (paid), vine == 'Y'.\n",
        "vine_Y = h_v_pct.filter(h_v_pct[\"vine\"] == 'Y')\n",
        "vine_Y.show()"
      ],
      "metadata": {
        "colab": {
          "base_uri": "https://localhost:8080/"
        },
        "id": "OzbJ3aOc2F4G",
        "outputId": "ab462e25-2928-4196-a0cf-4144bf392984"
      },
      "execution_count": null,
      "outputs": [
        {
          "output_type": "stream",
          "name": "stdout",
          "text": [
            "+---------+-----------+-------------+-----------+----+-----------------+\n",
            "|review_id|star_rating|helpful_votes|total_votes|vine|verified_purchase|\n",
            "+---------+-----------+-------------+-----------+----+-----------------+\n",
            "+---------+-----------+-------------+-----------+----+-----------------+\n",
            "\n"
          ]
        }
      ]
    },
    {
      "cell_type": "code",
      "source": [
        "# Step 4: Repeat Step 3, but this time retrieve all the rows where the review was not part of the Vine program (unpaid), vine == 'N'.\n",
        "vine_N = h_v_pct.filter(h_v_pct[\"vine\"] == 'N')\n",
        "vine_N.show()"
      ],
      "metadata": {
        "colab": {
          "base_uri": "https://localhost:8080/"
        },
        "id": "3Y8nYFWB6Hz6",
        "outputId": "3f5faf7d-c508-4f66-c075-92b0125c38e6"
      },
      "execution_count": null,
      "outputs": [
        {
          "output_type": "stream",
          "name": "stdout",
          "text": [
            "+--------------+-----------+-------------+-----------+----+-----------------+\n",
            "|     review_id|star_rating|helpful_votes|total_votes|vine|verified_purchase|\n",
            "+--------------+-----------+-------------+-----------+----+-----------------+\n",
            "|R36PQ9D8L2AAOH|          5|           30|         32|   N|                Y|\n",
            "|R23GHBE86II0SK|          5|           18|         21|   N|                Y|\n",
            "|R18KVPY0TO33BM|          5|          241|        248|   N|                Y|\n",
            "|R2ZB78BDM8BRCF|          1|           99|        113|   N|                Y|\n",
            "|R2JMJOWGM7V7NX|          4|           20|         20|   N|                N|\n",
            "|R10ORTN0I3G5B9|          1|           19|         26|   N|                Y|\n",
            "|R1D1VPJBTP1WG8|          1|           38|         51|   N|                Y|\n",
            "|R3Q3ULUTULAQYH|          1|           22|         29|   N|                Y|\n",
            "|R1SHEELXA1IXQP|          5|           45|         57|   N|                Y|\n",
            "|R1IQJ99JOPJOE4|          5|           73|         94|   N|                N|\n",
            "|R32PHGNOUNJVY2|          1|          111|        150|   N|                Y|\n",
            "|R32HQ18L7FOP3N|          1|           18|         23|   N|                N|\n",
            "|R2IPGL0F4OCNO9|          1|           18|         24|   N|                N|\n",
            "| R4RNS35ZXYWSU|          2|           52|         59|   N|                Y|\n",
            "| R5S7HIQAWL5QS|          5|           48|         49|   N|                Y|\n",
            "|R12LGU9RL181NG|          1|         5987|       6323|   N|                Y|\n",
            "|R1ZMHE6AO0T6MO|          5|           67|         75|   N|                N|\n",
            "| R66RKRKYK3VMO|          5|           74|         89|   N|                Y|\n",
            "| R1SVG06BEMESM|          5|           92|        126|   N|                Y|\n",
            "|R1Q5MWSSP3RMYJ|          1|           25|         29|   N|                Y|\n",
            "+--------------+-----------+-------------+-----------+----+-----------------+\n",
            "only showing top 20 rows\n",
            "\n"
          ]
        }
      ]
    },
    {
      "cell_type": "code",
      "source": [
        "# Step 5a: Determine the total number of reviews.\n",
        "total_reviews = vine_df.count()\n",
        "print(f\"There is a total of {total_reviews} reiviews.\")\n",
        "\n",
        "# Step 5b: Determine the number of 5-star reviews.\n",
        "fiveStar_reviews = vine_df.filter(\"star_rating = 5\").count()\n",
        "print(f\"There is a total of {fiveStar_reviews} 5-star reviews.\")\n",
        "print(f\"-----------------------------------------------------------------------------\")\n",
        "\n",
        "# Step 5c: Determine the number and percentage of 5-star reviews for paid vines. \n",
        "total_paidv_reviews = vine_df.filter(vine_df.vine == 'Y').count()\n",
        "fiveStar_paidv_reviews = vine_df.filter((vine_df.vine == 'Y')&(vine_df.star_rating == 5))\n",
        "fiveStar_paidv_count = fiveStar_paidv_reviews.count()\n",
        "fiveStar_paidv_pct= round((fiveStar_paidv_count/total_reviews),2)*100 \n",
        "print(f\"There is a total of {total_paidv_reviews} paid vine reviews.\")\n",
        "print(f\"There is a total of {fiveStar_paidv_count} 5-star paid vine reviews.\")\n",
        "print(f\"The percentage of 5-star paid reviews is {fiveStar_paidv_pct}%\")\n",
        "print(f\"-----------------------------------------------------------------------------\")\n",
        "\n",
        "# Step 5d: Determine the number and percentage of 5-star reviews for unpaid vines. \n",
        "total_unpaidv_reviews = vine_df.filter(vine_df.vine == 'N').count()\n",
        "fiveStar_unpaid_reviews = vine_df.filter((vine_df.vine == 'N')&(vine_df.star_rating == 5))\n",
        "fiveStar_unpaidv_count = fiveStar_unpaid_reviews.count()\n",
        "fiveStar_unpaidv_pct= round((fiveStar_unpaidv_count/total_unpaidv_reviews),2)*100 \n",
        "print(f\"There is a total of {total_unpaidv_reviews} unpaid vine reviews.\")\n",
        "print(f\"There is a total of {fiveStar_unpaidv_count} 5-star unpaid reviews.\")\n",
        "print(f\"The percentage of 5-star unpaid reviews is {fiveStar_unpaidv_pct}%\")\n",
        "print(f\"-----------------------------------------------------------------------------\")"
      ],
      "metadata": {
        "colab": {
          "base_uri": "https://localhost:8080/"
        },
        "id": "xsOgQJOL6nbt",
        "outputId": "9022466a-0158-414c-c974-fffebe9b8a94"
      },
      "execution_count": null,
      "outputs": [
        {
          "output_type": "stream",
          "name": "stdout",
          "text": [
            "There is a total of 149086 reiviews.\n",
            "There is a total of 129709 5-star reviews.\n",
            "-----------------------------------------------------------------------------\n",
            "There is a total of 0 paid vine reviews.\n",
            "There is a total of 0 5-star paid vine reviews.\n",
            "The percentage of 5-star paid reviews is 0.0%\n",
            "-----------------------------------------------------------------------------\n",
            "There is a total of 149086 unpaid vine reviews.\n",
            "There is a total of 129709 5-star unpaid reviews.\n",
            "The percentage of 5-star unpaid reviews is 87.0%\n",
            "-----------------------------------------------------------------------------\n"
          ]
        }
      ]
    },
    {
      "cell_type": "code",
      "source": [
        ""
      ],
      "metadata": {
        "id": "bR-VIIK5YJqQ"
      },
      "execution_count": null,
      "outputs": []
    }
  ]
}